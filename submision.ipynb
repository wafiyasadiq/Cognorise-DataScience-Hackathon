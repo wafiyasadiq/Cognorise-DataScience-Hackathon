{
 "cells": [
  {
   "cell_type": "code",
   "execution_count": 2,
   "id": "29a4d5e4-d6da-4193-9854-b7dd5394e503",
   "metadata": {},
   "outputs": [],
   "source": [
    "import pandas as pd\n",
    "import numpy as np"
   ]
  },
  {
   "cell_type": "code",
   "execution_count": 3,
   "id": "986c39e6-9944-45fe-aa20-6d7f6672063d",
   "metadata": {},
   "outputs": [],
   "source": [
    "df = pd.read_csv('test.csv')"
   ]
  },
  {
   "cell_type": "code",
   "execution_count": 43,
   "id": "8e8b4be9-7f31-405d-9065-7f85e34d51b9",
   "metadata": {},
   "outputs": [],
   "source": [
    "similar_df = pd.read_csv('train.csv')"
   ]
  },
  {
   "cell_type": "code",
   "execution_count": 4,
   "id": "32d25ef6-eec3-4520-b335-60fd7c7a4211",
   "metadata": {},
   "outputs": [
    {
     "data": {
      "text/html": [
       "<div>\n",
       "<style scoped>\n",
       "    .dataframe tbody tr th:only-of-type {\n",
       "        vertical-align: middle;\n",
       "    }\n",
       "\n",
       "    .dataframe tbody tr th {\n",
       "        vertical-align: top;\n",
       "    }\n",
       "\n",
       "    .dataframe thead th {\n",
       "        text-align: right;\n",
       "    }\n",
       "</style>\n",
       "<table border=\"1\" class=\"dataframe\">\n",
       "  <thead>\n",
       "    <tr style=\"text-align: right;\">\n",
       "      <th></th>\n",
       "      <th>Roll no</th>\n",
       "      <th>test preparation</th>\n",
       "      <th>gender</th>\n",
       "      <th>parental level of education</th>\n",
       "      <th>lunch</th>\n",
       "      <th>Section</th>\n",
       "      <th>practical score</th>\n",
       "      <th>viva score</th>\n",
       "    </tr>\n",
       "  </thead>\n",
       "  <tbody>\n",
       "    <tr>\n",
       "      <th>0</th>\n",
       "      <td>EXA32000</td>\n",
       "      <td>none</td>\n",
       "      <td>male</td>\n",
       "      <td>associate's degree</td>\n",
       "      <td>standard</td>\n",
       "      <td>Section C</td>\n",
       "      <td>74</td>\n",
       "      <td>89</td>\n",
       "    </tr>\n",
       "    <tr>\n",
       "      <th>1</th>\n",
       "      <td>EXA32001</td>\n",
       "      <td>completed</td>\n",
       "      <td>male</td>\n",
       "      <td>some high school</td>\n",
       "      <td>standard</td>\n",
       "      <td>Section E</td>\n",
       "      <td>66</td>\n",
       "      <td>75</td>\n",
       "    </tr>\n",
       "    <tr>\n",
       "      <th>2</th>\n",
       "      <td>EXA32002</td>\n",
       "      <td>none</td>\n",
       "      <td>male</td>\n",
       "      <td>some high school</td>\n",
       "      <td>standard</td>\n",
       "      <td>Section C</td>\n",
       "      <td>52</td>\n",
       "      <td>55</td>\n",
       "    </tr>\n",
       "    <tr>\n",
       "      <th>3</th>\n",
       "      <td>EXA32003</td>\n",
       "      <td>completed</td>\n",
       "      <td>male</td>\n",
       "      <td>some high school</td>\n",
       "      <td>standard</td>\n",
       "      <td>Section D</td>\n",
       "      <td>69</td>\n",
       "      <td>85</td>\n",
       "    </tr>\n",
       "    <tr>\n",
       "      <th>4</th>\n",
       "      <td>EXA32004</td>\n",
       "      <td>none</td>\n",
       "      <td>female</td>\n",
       "      <td>bachelor's degree</td>\n",
       "      <td>standard</td>\n",
       "      <td>Section E</td>\n",
       "      <td>46</td>\n",
       "      <td>62</td>\n",
       "    </tr>\n",
       "  </tbody>\n",
       "</table>\n",
       "</div>"
      ],
      "text/plain": [
       "    Roll no test preparation   gender parental level of education     lunch  \\\n",
       "0  EXA32000              none    male          associate's degree  standard   \n",
       "1  EXA32001         completed    male            some high school  standard   \n",
       "2  EXA32002              none    male            some high school  standard   \n",
       "3  EXA32003         completed    male            some high school  standard   \n",
       "4  EXA32004              none  female           bachelor's degree  standard   \n",
       "\n",
       "     Section  practical score  viva score  \n",
       "0  Section C               74          89  \n",
       "1  Section E               66          75  \n",
       "2  Section C               52          55  \n",
       "3  Section D               69          85  \n",
       "4  Section E               46          62  "
      ]
     },
     "execution_count": 4,
     "metadata": {},
     "output_type": "execute_result"
    }
   ],
   "source": [
    "df.head(5)"
   ]
  },
  {
   "cell_type": "code",
   "execution_count": 5,
   "id": "69998ece-34ab-452a-a724-6f9d1970dd04",
   "metadata": {},
   "outputs": [
    {
     "data": {
      "text/html": [
       "<div>\n",
       "<style scoped>\n",
       "    .dataframe tbody tr th:only-of-type {\n",
       "        vertical-align: middle;\n",
       "    }\n",
       "\n",
       "    .dataframe tbody tr th {\n",
       "        vertical-align: top;\n",
       "    }\n",
       "\n",
       "    .dataframe thead th {\n",
       "        text-align: right;\n",
       "    }\n",
       "</style>\n",
       "<table border=\"1\" class=\"dataframe\">\n",
       "  <thead>\n",
       "    <tr style=\"text-align: right;\">\n",
       "      <th></th>\n",
       "      <th>Roll no</th>\n",
       "      <th>test preparation</th>\n",
       "      <th>gender</th>\n",
       "      <th>parental level of education</th>\n",
       "      <th>lunch</th>\n",
       "      <th>Section</th>\n",
       "      <th>practical score</th>\n",
       "      <th>viva score</th>\n",
       "    </tr>\n",
       "  </thead>\n",
       "  <tbody>\n",
       "    <tr>\n",
       "      <th>17</th>\n",
       "      <td>EXA32017</td>\n",
       "      <td>completed</td>\n",
       "      <td>female</td>\n",
       "      <td>high school</td>\n",
       "      <td>standard</td>\n",
       "      <td>Section A</td>\n",
       "      <td>62</td>\n",
       "      <td>73</td>\n",
       "    </tr>\n",
       "    <tr>\n",
       "      <th>96</th>\n",
       "      <td>EXA32096</td>\n",
       "      <td>completed</td>\n",
       "      <td>male</td>\n",
       "      <td>associate's degree</td>\n",
       "      <td>free/reduced</td>\n",
       "      <td>Section B</td>\n",
       "      <td>70</td>\n",
       "      <td>58</td>\n",
       "    </tr>\n",
       "    <tr>\n",
       "      <th>67</th>\n",
       "      <td>EXA32067</td>\n",
       "      <td>completed</td>\n",
       "      <td>male</td>\n",
       "      <td>some college</td>\n",
       "      <td>standard</td>\n",
       "      <td>Section C</td>\n",
       "      <td>67</td>\n",
       "      <td>70</td>\n",
       "    </tr>\n",
       "    <tr>\n",
       "      <th>87</th>\n",
       "      <td>EXA32087</td>\n",
       "      <td>completed</td>\n",
       "      <td>female</td>\n",
       "      <td>some high school</td>\n",
       "      <td>free/reduced</td>\n",
       "      <td>Section B</td>\n",
       "      <td>70</td>\n",
       "      <td>71</td>\n",
       "    </tr>\n",
       "    <tr>\n",
       "      <th>26</th>\n",
       "      <td>EXA32026</td>\n",
       "      <td>none</td>\n",
       "      <td>female</td>\n",
       "      <td>associate's degree</td>\n",
       "      <td>standard</td>\n",
       "      <td>Section E</td>\n",
       "      <td>75</td>\n",
       "      <td>72</td>\n",
       "    </tr>\n",
       "  </tbody>\n",
       "</table>\n",
       "</div>"
      ],
      "text/plain": [
       "     Roll no test preparation   gender parental level of education  \\\n",
       "17  EXA32017         completed  female                 high school   \n",
       "96  EXA32096         completed    male          associate's degree   \n",
       "67  EXA32067         completed    male                some college   \n",
       "87  EXA32087         completed  female            some high school   \n",
       "26  EXA32026              none  female          associate's degree   \n",
       "\n",
       "           lunch    Section  practical score  viva score  \n",
       "17      standard  Section A               62          73  \n",
       "96  free/reduced  Section B               70          58  \n",
       "67      standard  Section C               67          70  \n",
       "87  free/reduced  Section B               70          71  \n",
       "26      standard  Section E               75          72  "
      ]
     },
     "execution_count": 5,
     "metadata": {},
     "output_type": "execute_result"
    }
   ],
   "source": [
    "df.sample(5)"
   ]
  },
  {
   "cell_type": "code",
   "execution_count": 44,
   "id": "01c1a9f1-f333-4e8c-8dad-ae3815904472",
   "metadata": {},
   "outputs": [
    {
     "data": {
      "text/html": [
       "<div>\n",
       "<style scoped>\n",
       "    .dataframe tbody tr th:only-of-type {\n",
       "        vertical-align: middle;\n",
       "    }\n",
       "\n",
       "    .dataframe tbody tr th {\n",
       "        vertical-align: top;\n",
       "    }\n",
       "\n",
       "    .dataframe thead th {\n",
       "        text-align: right;\n",
       "    }\n",
       "</style>\n",
       "<table border=\"1\" class=\"dataframe\">\n",
       "  <thead>\n",
       "    <tr style=\"text-align: right;\">\n",
       "      <th></th>\n",
       "      <th>Roll no</th>\n",
       "      <th>test preparation</th>\n",
       "      <th>gender</th>\n",
       "      <th>parental level of education</th>\n",
       "      <th>lunch</th>\n",
       "      <th>Section</th>\n",
       "      <th>practical score</th>\n",
       "      <th>viva score</th>\n",
       "      <th>exam score</th>\n",
       "    </tr>\n",
       "  </thead>\n",
       "  <tbody>\n",
       "    <tr>\n",
       "      <th>0</th>\n",
       "      <td>EXA000001</td>\n",
       "      <td>none</td>\n",
       "      <td>male</td>\n",
       "      <td>some college</td>\n",
       "      <td>standard</td>\n",
       "      <td>Section A</td>\n",
       "      <td>70</td>\n",
       "      <td>73</td>\n",
       "      <td>70</td>\n",
       "    </tr>\n",
       "    <tr>\n",
       "      <th>1</th>\n",
       "      <td>EXA000002</td>\n",
       "      <td>none</td>\n",
       "      <td>male</td>\n",
       "      <td>master's degree</td>\n",
       "      <td>free/reduced</td>\n",
       "      <td>Section C</td>\n",
       "      <td>55</td>\n",
       "      <td>54</td>\n",
       "      <td>52</td>\n",
       "    </tr>\n",
       "    <tr>\n",
       "      <th>2</th>\n",
       "      <td>EXA000003</td>\n",
       "      <td>none</td>\n",
       "      <td>male</td>\n",
       "      <td>master's degree</td>\n",
       "      <td>free/reduced</td>\n",
       "      <td>Section E</td>\n",
       "      <td>56</td>\n",
       "      <td>46</td>\n",
       "      <td>43</td>\n",
       "    </tr>\n",
       "    <tr>\n",
       "      <th>3</th>\n",
       "      <td>EXA000004</td>\n",
       "      <td>none</td>\n",
       "      <td>female</td>\n",
       "      <td>some college</td>\n",
       "      <td>free/reduced</td>\n",
       "      <td>Section C</td>\n",
       "      <td>35</td>\n",
       "      <td>47</td>\n",
       "      <td>41</td>\n",
       "    </tr>\n",
       "    <tr>\n",
       "      <th>4</th>\n",
       "      <td>EXA000005</td>\n",
       "      <td>none</td>\n",
       "      <td>female</td>\n",
       "      <td>high school</td>\n",
       "      <td>standard</td>\n",
       "      <td>Section C</td>\n",
       "      <td>87</td>\n",
       "      <td>92</td>\n",
       "      <td>81</td>\n",
       "    </tr>\n",
       "  </tbody>\n",
       "</table>\n",
       "</div>"
      ],
      "text/plain": [
       "     Roll no test preparation   gender parental level of education  \\\n",
       "0  EXA000001              none    male                some college   \n",
       "1  EXA000002              none    male             master's degree   \n",
       "2  EXA000003              none    male             master's degree   \n",
       "3  EXA000004              none  female                some college   \n",
       "4  EXA000005              none  female                 high school   \n",
       "\n",
       "          lunch    Section  practical score  viva score  exam score  \n",
       "0      standard  Section A               70          73          70  \n",
       "1  free/reduced  Section C               55          54          52  \n",
       "2  free/reduced  Section E               56          46          43  \n",
       "3  free/reduced  Section C               35          47          41  \n",
       "4      standard  Section C               87          92          81  "
      ]
     },
     "execution_count": 44,
     "metadata": {},
     "output_type": "execute_result"
    }
   ],
   "source": [
    "similar_df.head(5)"
   ]
  },
  {
   "cell_type": "code",
   "execution_count": 6,
   "id": "17455453-e941-49a0-8b63-cc92df22f7e3",
   "metadata": {},
   "outputs": [
    {
     "data": {
      "text/plain": [
       "(100, 8)"
      ]
     },
     "execution_count": 6,
     "metadata": {},
     "output_type": "execute_result"
    }
   ],
   "source": [
    "df.shape"
   ]
  },
  {
   "cell_type": "code",
   "execution_count": 53,
   "id": "d9c7b34e-2386-40d1-843b-4d1d5a071210",
   "metadata": {},
   "outputs": [
    {
     "data": {
      "text/plain": [
       "(31999, 9)"
      ]
     },
     "execution_count": 53,
     "metadata": {},
     "output_type": "execute_result"
    }
   ],
   "source": [
    "similar_df.shape"
   ]
  },
  {
   "cell_type": "code",
   "execution_count": 54,
   "id": "2ebd6b3b-d16f-4dc1-a7e0-144fbffcecc8",
   "metadata": {},
   "outputs": [
    {
     "name": "stdout",
     "output_type": "stream",
     "text": [
      "<class 'pandas.core.frame.DataFrame'>\n",
      "RangeIndex: 31999 entries, 0 to 31998\n",
      "Data columns (total 9 columns):\n",
      " #   Column                       Non-Null Count  Dtype \n",
      "---  ------                       --------------  ----- \n",
      " 0   Roll no                      31999 non-null  object\n",
      " 1   test preparation             31999 non-null  object\n",
      " 2   gender                       31999 non-null  object\n",
      " 3   parental level of education  31999 non-null  object\n",
      " 4   lunch                        31999 non-null  object\n",
      " 5   Section                      31999 non-null  object\n",
      " 6   practical score              31999 non-null  int64 \n",
      " 7   viva score                   31999 non-null  int64 \n",
      " 8   exam score                   31999 non-null  int64 \n",
      "dtypes: int64(3), object(6)\n",
      "memory usage: 2.2+ MB\n"
     ]
    }
   ],
   "source": [
    "similar_df.info()\n"
   ]
  },
  {
   "cell_type": "code",
   "execution_count": 7,
   "id": "0424ff4f-5517-4741-8dc1-ee2060ceba8b",
   "metadata": {},
   "outputs": [
    {
     "name": "stdout",
     "output_type": "stream",
     "text": [
      "<class 'pandas.core.frame.DataFrame'>\n",
      "RangeIndex: 100 entries, 0 to 99\n",
      "Data columns (total 8 columns):\n",
      " #   Column                       Non-Null Count  Dtype \n",
      "---  ------                       --------------  ----- \n",
      " 0   Roll no                      100 non-null    object\n",
      " 1   test preparation             100 non-null    object\n",
      " 2   gender                       100 non-null    object\n",
      " 3   parental level of education  100 non-null    object\n",
      " 4   lunch                        100 non-null    object\n",
      " 5   Section                      100 non-null    object\n",
      " 6   practical score              100 non-null    int64 \n",
      " 7   viva score                   100 non-null    int64 \n",
      "dtypes: int64(2), object(6)\n",
      "memory usage: 6.4+ KB\n"
     ]
    }
   ],
   "source": [
    "df.info()"
   ]
  },
  {
   "cell_type": "code",
   "execution_count": 8,
   "id": "a940943c-22dd-44dc-b50d-13d47d48f0f0",
   "metadata": {},
   "outputs": [
    {
     "data": {
      "text/plain": [
       "Roll no                        0\n",
       "test preparation               0\n",
       "gender                         0\n",
       "parental level of education    0\n",
       "lunch                          0\n",
       "Section                        0\n",
       "practical score                0\n",
       "viva score                     0\n",
       "dtype: int64"
      ]
     },
     "execution_count": 8,
     "metadata": {},
     "output_type": "execute_result"
    }
   ],
   "source": [
    "df.isnull().sum()"
   ]
  },
  {
   "cell_type": "code",
   "execution_count": 9,
   "id": "ce37239c-c2b3-4b48-9703-2f4b772a2dff",
   "metadata": {},
   "outputs": [
    {
     "data": {
      "text/html": [
       "<div>\n",
       "<style scoped>\n",
       "    .dataframe tbody tr th:only-of-type {\n",
       "        vertical-align: middle;\n",
       "    }\n",
       "\n",
       "    .dataframe tbody tr th {\n",
       "        vertical-align: top;\n",
       "    }\n",
       "\n",
       "    .dataframe thead th {\n",
       "        text-align: right;\n",
       "    }\n",
       "</style>\n",
       "<table border=\"1\" class=\"dataframe\">\n",
       "  <thead>\n",
       "    <tr style=\"text-align: right;\">\n",
       "      <th></th>\n",
       "      <th>practical score</th>\n",
       "      <th>viva score</th>\n",
       "    </tr>\n",
       "  </thead>\n",
       "  <tbody>\n",
       "    <tr>\n",
       "      <th>count</th>\n",
       "      <td>100.000000</td>\n",
       "      <td>100.000000</td>\n",
       "    </tr>\n",
       "    <tr>\n",
       "      <th>mean</th>\n",
       "      <td>65.190000</td>\n",
       "      <td>68.950000</td>\n",
       "    </tr>\n",
       "    <tr>\n",
       "      <th>std</th>\n",
       "      <td>15.530807</td>\n",
       "      <td>14.643491</td>\n",
       "    </tr>\n",
       "    <tr>\n",
       "      <th>min</th>\n",
       "      <td>20.000000</td>\n",
       "      <td>38.000000</td>\n",
       "    </tr>\n",
       "    <tr>\n",
       "      <th>25%</th>\n",
       "      <td>54.750000</td>\n",
       "      <td>59.000000</td>\n",
       "    </tr>\n",
       "    <tr>\n",
       "      <th>50%</th>\n",
       "      <td>65.500000</td>\n",
       "      <td>68.000000</td>\n",
       "    </tr>\n",
       "    <tr>\n",
       "      <th>75%</th>\n",
       "      <td>76.250000</td>\n",
       "      <td>77.000000</td>\n",
       "    </tr>\n",
       "    <tr>\n",
       "      <th>max</th>\n",
       "      <td>100.000000</td>\n",
       "      <td>100.000000</td>\n",
       "    </tr>\n",
       "  </tbody>\n",
       "</table>\n",
       "</div>"
      ],
      "text/plain": [
       "       practical score  viva score\n",
       "count       100.000000  100.000000\n",
       "mean         65.190000   68.950000\n",
       "std          15.530807   14.643491\n",
       "min          20.000000   38.000000\n",
       "25%          54.750000   59.000000\n",
       "50%          65.500000   68.000000\n",
       "75%          76.250000   77.000000\n",
       "max         100.000000  100.000000"
      ]
     },
     "execution_count": 9,
     "metadata": {},
     "output_type": "execute_result"
    }
   ],
   "source": [
    "df.describe()"
   ]
  },
  {
   "cell_type": "code",
   "execution_count": 10,
   "id": "e883585d-f442-4015-8fff-352ca54aff06",
   "metadata": {},
   "outputs": [
    {
     "data": {
      "text/plain": [
       "0"
      ]
     },
     "execution_count": 10,
     "metadata": {},
     "output_type": "execute_result"
    }
   ],
   "source": [
    "df.duplicated().sum()"
   ]
  },
  {
   "cell_type": "code",
   "execution_count": null,
   "id": "ec4766c8-8938-4f17-bc9b-bb6e8a295d06",
   "metadata": {},
   "outputs": [],
   "source": [
    "df['Roll no'] = df['Roll no'].astype(float)"
   ]
  },
  {
   "cell_type": "code",
   "execution_count": 24,
   "id": "2f75ae47-e1c4-4b01-be01-87afad4fbad7",
   "metadata": {},
   "outputs": [],
   "source": [
    "import matplotlib.pyplot as plt\n",
    "import seaborn as sns\n",
    "from sklearn import model_selection\n",
    "from sklearn.linear_model import LinearRegression\n",
    "from sklearn.model_selection import train_test_split"
   ]
  },
  {
   "cell_type": "code",
   "execution_count": 15,
   "id": "2f9d9cee-33b8-4977-bf27-a86fae1e0023",
   "metadata": {},
   "outputs": [],
   "source": [
    "df['practical score'].fillna(df['practical score'].mean(), inplace=True)\n",
    "df['viva score'].fillna(df['viva score'].mean(), inplace=True)"
   ]
  },
  {
   "cell_type": "code",
   "execution_count": 35,
   "id": "383eafb0-7366-44df-8c44-8c26bfa94cc1",
   "metadata": {},
   "outputs": [],
   "source": [
    "new_data = df[['practical score','viva score']]"
   ]
  },
  {
   "cell_type": "code",
   "execution_count": 42,
   "id": "e027ea7c-26e9-4656-a753-d277991471b2",
   "metadata": {},
   "outputs": [
    {
     "data": {
      "image/png": "[encoded data removed]",
      "text/plain": [
       "<Figure size 640x480 with 1 Axes>"
      ]
     },
     "metadata": {},
     "output_type": "display_data"
    }
   ],
   "source": [
    "from sklearn.decomposition import PCA\n",
    "\n",
    "pca = PCA(n_components=2)\n",
    "pca_data = pca.fit_transform(df[['viva score', 'practical score']])\n",
    "\n",
    "plt.scatter(pca_data[:, 0], pca_data[:, 1])\n",
    "plt.xlabel('Principal Component 1')\n",
    "plt.ylabel('Principal Component 2')\n",
    "plt.title('Viva Score vs Practical Score')\n",
    "plt.show()"
   ]
  },
  {
   "cell_type": "code",
   "execution_count": 94,
   "id": "ddfef346-7a1f-4747-ab5c-f8ef0596c486",
   "metadata": {},
   "outputs": [],
   "source": [
    "from sklearn.linear_model import LinearRegression\n",
    "\n",
    "model = LinearRegression()\n",
    "model.fit(similar_df[['viva score', 'practical score']], similar_df['exam score'])\n",
    "\n",
    "predicted_exam_scores = model.predict(df[['viva score', 'practical score']])"
   ]
  },
  {
   "cell_type": "code",
   "execution_count": 95,
   "id": "24da9cde-7132-432a-a58f-acfbf109f254",
   "metadata": {},
   "outputs": [
    {
     "name": "stdout",
     "output_type": "stream",
     "text": [
      "[69.71875462 69.22695097 68.48128683 69.53275804 68.55962616 68.97769349\n",
      " 69.69444813 69.2562689  68.85620516 69.24622397 69.49296471 69.1557314\n",
      " 69.52647721 69.57087355 69.31408788 69.43850138 68.99236348 69.10881831\n",
      " 68.49972091 69.42299248 68.43981567 68.66059414 69.93282177 68.16416544\n",
      " 69.25710781 69.74179171 69.30109572 69.1653679  69.42802597 69.84944896\n",
      " 69.17291813 68.61910092 68.9211439  69.57674596 69.2286288  68.72215517\n",
      " 68.68152292 68.55919568 68.85452733 68.73682516 69.36560398 69.04471849\n",
      " 69.01707839 69.71959354 69.1222189  68.699957   68.33256685 68.28900942\n",
      " 69.2897814  69.47956412 69.71499053 69.84904053 69.15321465 68.87967274\n",
      " 68.94209473 68.8733919  69.49464254 68.83065133 68.9500534  69.13101648\n",
      " 69.29313706 68.79924715 68.34807575 69.57967113 68.78457716 69.71875462\n",
      " 69.2369959  69.11593806 68.13149185 68.70499049 69.05687173 67.82108178\n",
      " 68.60737816 69.14945056 68.88679249 69.06399148 68.37823259 68.38954692\n",
      " 70.02372278 68.92574691 68.71839108 69.29481489 69.23490964 68.58434108\n",
      " 68.59481649 70.16405361 68.53155558 69.19176064 68.31120759 68.24125742\n",
      " 69.17752114 68.90942114 69.17668222 69.14861165 69.5972663  69.72503546\n",
      " 68.85956083 69.19008281 69.05771065 68.88847032]\n"
     ]
    }
   ],
   "source": [
    "print(predicted_exam_scores)"
   ]
  },
  {
   "cell_type": "code",
   "execution_count": 117,
   "id": "0c640ae6-6e31-4643-9d75-cfb334946f72",
   "metadata": {},
   "outputs": [
    {
     "name": "stdout",
     "output_type": "stream",
     "text": [
      "    Roll no test preparation   gender parental level of education     lunch  \\\n",
      "0  EXA32000              none    male          associate's degree  standard   \n",
      "1  EXA32001         completed    male            some high school  standard   \n",
      "2  EXA32002              none    male            some high school  standard   \n",
      "3  EXA32003         completed    male            some high school  standard   \n",
      "4  EXA32004              none  female           bachelor's degree  standard   \n",
      "\n",
      "     Section  practical score  viva score  exam_score  predicted_exam_score  \n",
      "0  Section C               74          89           0             69.718755  \n",
      "1  Section E               66          75           0             69.226951  \n",
      "2  Section C               52          55           0             68.481287  \n",
      "3  Section D               69          85           0             69.532758  \n",
      "4  Section E               46          62           0             68.559626  \n"
     ]
    }
   ],
   "source": [
    "df_with_predicted_scores = df.assign(predicted_exam_score=predicted_exam_scores)\n",
    "\n",
    "print(df_with_predicted_scores.head())"
   ]
  },
  {
   "cell_type": "code",
   "execution_count": 126,
   "id": "28f74c60-cad8-4a57-b2b0-88b8e4fa5a40",
   "metadata": {},
   "outputs": [],
   "source": [
    "df_with_predicted_scores.drop('exam_score', axis=1, inplace=True)"
   ]
  },
  {
   "cell_type": "code",
   "execution_count": 127,
   "id": "25b96971-be41-48ef-a3f4-61740281dae7",
   "metadata": {},
   "outputs": [
    {
     "data": {
      "text/plain": [
       "Index(['Roll no', 'test preparation ', 'gender', 'parental level of education',\n",
       "       'lunch', 'Section', 'practical score', 'viva score',\n",
       "       'predicted_exam_score'],\n",
       "      dtype='object')"
      ]
     },
     "execution_count": 127,
     "metadata": {},
     "output_type": "execute_result"
    }
   ],
   "source": [
    "df_with_predicted_scores.columns"
   ]
  },
  {
   "cell_type": "code",
   "execution_count": 128,
   "id": "07fc2628-df7d-4f4d-92e5-8fe002165a5f",
   "metadata": {},
   "outputs": [
    {
     "data": {
      "text/html": [
       "<div>\n",
       "<style scoped>\n",
       "    .dataframe tbody tr th:only-of-type {\n",
       "        vertical-align: middle;\n",
       "    }\n",
       "\n",
       "    .dataframe tbody tr th {\n",
       "        vertical-align: top;\n",
       "    }\n",
       "\n",
       "    .dataframe thead th {\n",
       "        text-align: right;\n",
       "    }\n",
       "</style>\n",
       "<table border=\"1\" class=\"dataframe\">\n",
       "  <thead>\n",
       "    <tr style=\"text-align: right;\">\n",
       "      <th></th>\n",
       "      <th>Roll no</th>\n",
       "      <th>test preparation</th>\n",
       "      <th>gender</th>\n",
       "      <th>parental level of education</th>\n",
       "      <th>lunch</th>\n",
       "      <th>Section</th>\n",
       "      <th>practical score</th>\n",
       "      <th>viva score</th>\n",
       "      <th>predicted_exam_score</th>\n",
       "    </tr>\n",
       "  </thead>\n",
       "  <tbody>\n",
       "    <tr>\n",
       "      <th>66</th>\n",
       "      <td>EXA32066</td>\n",
       "      <td>completed</td>\n",
       "      <td>male</td>\n",
       "      <td>associate's degree</td>\n",
       "      <td>standard</td>\n",
       "      <td>Section A</td>\n",
       "      <td>91</td>\n",
       "      <td>59</td>\n",
       "      <td>69</td>\n",
       "    </tr>\n",
       "  </tbody>\n",
       "</table>\n",
       "</div>"
      ],
      "text/plain": [
       "     Roll no test preparation  gender parental level of education     lunch  \\\n",
       "66  EXA32066         completed   male          associate's degree  standard   \n",
       "\n",
       "      Section  practical score  viva score  predicted_exam_score  \n",
       "66  Section A               91          59                    69  "
      ]
     },
     "execution_count": 128,
     "metadata": {},
     "output_type": "execute_result"
    }
   ],
   "source": [
    "df_with_predicted_scores.sample()"
   ]
  },
  {
   "cell_type": "code",
   "execution_count": 97,
   "id": "3bb2d92f-7b3b-4d78-a8a9-ac69fd91289b",
   "metadata": {},
   "outputs": [
    {
     "data": {
      "image/png": "[encoded data removed]",
      "text/plain": [
       "<Figure size 640x480 with 1 Axes>"
      ]
     },
     "metadata": {},
     "output_type": "display_data"
    }
   ],
   "source": [
    "plt.hist(predicted_exam_scores, bins=20)\n",
    "plt.xlabel('Predicted Exam Score')\n",
    "plt.ylabel('Frequency')\n",
    "plt.title('Histogram of Predicted Exam Scores')\n",
    "plt.show()"
   ]
  },
  {
   "cell_type": "code",
   "execution_count": 118,
   "id": "fcb687a8-7836-436c-88b0-73449f48f019",
   "metadata": {},
   "outputs": [],
   "source": [
    "df_with_predicted_scores['predicted_exam_score'] = df_with_predicted_scores['predicted_exam_score'].round()"
   ]
  },
  {
   "cell_type": "code",
   "execution_count": 119,
   "id": "703406da-a8be-465d-bb5a-ec25d26d69aa",
   "metadata": {},
   "outputs": [
    {
     "name": "stdout",
     "output_type": "stream",
     "text": [
      "0     70.0\n",
      "1     69.0\n",
      "2     68.0\n",
      "3     70.0\n",
      "4     69.0\n",
      "      ... \n",
      "95    70.0\n",
      "96    69.0\n",
      "97    69.0\n",
      "98    69.0\n",
      "99    69.0\n",
      "Name: predicted_exam_score, Length: 100, dtype: float64\n"
     ]
    }
   ],
   "source": [
    "print(df_with_predicted_scores['predicted_exam_score'])"
   ]
  },
  {
   "cell_type": "code",
   "execution_count": 120,
   "id": "a50a08d8-9222-470b-9fd3-bf833bf002d8",
   "metadata": {},
   "outputs": [],
   "source": [
    "df_with_predicted_scores['predicted_exam_score'] = df_with_predicted_scores['predicted_exam_score'].astype(int)"
   ]
  },
  {
   "cell_type": "code",
   "execution_count": 121,
   "id": "9d8b4c85-713e-467b-8616-72cd086e3fc4",
   "metadata": {},
   "outputs": [
    {
     "name": "stdout",
     "output_type": "stream",
     "text": [
      "int32\n"
     ]
    }
   ],
   "source": [
    "print(df_with_predicted_scores['predicted_exam_score'].dtype)"
   ]
  },
  {
   "cell_type": "code",
   "execution_count": 129,
   "id": "18e2ce3e-d507-4c49-a10d-0a002b28ee56",
   "metadata": {},
   "outputs": [
    {
     "data": {
      "text/html": [
       "<div>\n",
       "<style scoped>\n",
       "    .dataframe tbody tr th:only-of-type {\n",
       "        vertical-align: middle;\n",
       "    }\n",
       "\n",
       "    .dataframe tbody tr th {\n",
       "        vertical-align: top;\n",
       "    }\n",
       "\n",
       "    .dataframe thead th {\n",
       "        text-align: right;\n",
       "    }\n",
       "</style>\n",
       "<table border=\"1\" class=\"dataframe\">\n",
       "  <thead>\n",
       "    <tr style=\"text-align: right;\">\n",
       "      <th></th>\n",
       "      <th>Roll no</th>\n",
       "      <th>test preparation</th>\n",
       "      <th>gender</th>\n",
       "      <th>parental level of education</th>\n",
       "      <th>lunch</th>\n",
       "      <th>Section</th>\n",
       "      <th>practical score</th>\n",
       "      <th>viva score</th>\n",
       "      <th>predicted_exam_score</th>\n",
       "    </tr>\n",
       "  </thead>\n",
       "  <tbody>\n",
       "    <tr>\n",
       "      <th>0</th>\n",
       "      <td>EXA32000</td>\n",
       "      <td>none</td>\n",
       "      <td>male</td>\n",
       "      <td>associate's degree</td>\n",
       "      <td>standard</td>\n",
       "      <td>Section C</td>\n",
       "      <td>74</td>\n",
       "      <td>89</td>\n",
       "      <td>70</td>\n",
       "    </tr>\n",
       "    <tr>\n",
       "      <th>1</th>\n",
       "      <td>EXA32001</td>\n",
       "      <td>completed</td>\n",
       "      <td>male</td>\n",
       "      <td>some high school</td>\n",
       "      <td>standard</td>\n",
       "      <td>Section E</td>\n",
       "      <td>66</td>\n",
       "      <td>75</td>\n",
       "      <td>69</td>\n",
       "    </tr>\n",
       "    <tr>\n",
       "      <th>2</th>\n",
       "      <td>EXA32002</td>\n",
       "      <td>none</td>\n",
       "      <td>male</td>\n",
       "      <td>some high school</td>\n",
       "      <td>standard</td>\n",
       "      <td>Section C</td>\n",
       "      <td>52</td>\n",
       "      <td>55</td>\n",
       "      <td>68</td>\n",
       "    </tr>\n",
       "    <tr>\n",
       "      <th>3</th>\n",
       "      <td>EXA32003</td>\n",
       "      <td>completed</td>\n",
       "      <td>male</td>\n",
       "      <td>some high school</td>\n",
       "      <td>standard</td>\n",
       "      <td>Section D</td>\n",
       "      <td>69</td>\n",
       "      <td>85</td>\n",
       "      <td>70</td>\n",
       "    </tr>\n",
       "    <tr>\n",
       "      <th>4</th>\n",
       "      <td>EXA32004</td>\n",
       "      <td>none</td>\n",
       "      <td>female</td>\n",
       "      <td>bachelor's degree</td>\n",
       "      <td>standard</td>\n",
       "      <td>Section E</td>\n",
       "      <td>46</td>\n",
       "      <td>62</td>\n",
       "      <td>69</td>\n",
       "    </tr>\n",
       "  </tbody>\n",
       "</table>\n",
       "</div>"
      ],
      "text/plain": [
       "    Roll no test preparation   gender parental level of education     lunch  \\\n",
       "0  EXA32000              none    male          associate's degree  standard   \n",
       "1  EXA32001         completed    male            some high school  standard   \n",
       "2  EXA32002              none    male            some high school  standard   \n",
       "3  EXA32003         completed    male            some high school  standard   \n",
       "4  EXA32004              none  female           bachelor's degree  standard   \n",
       "\n",
       "     Section  practical score  viva score  predicted_exam_score  \n",
       "0  Section C               74          89                    70  \n",
       "1  Section E               66          75                    69  \n",
       "2  Section C               52          55                    68  \n",
       "3  Section D               69          85                    70  \n",
       "4  Section E               46          62                    69  "
      ]
     },
     "execution_count": 129,
     "metadata": {},
     "output_type": "execute_result"
    }
   ],
   "source": [
    "df_with_predicted_scores.head(5)"
   ]
  },
  {
   "cell_type": "code",
   "execution_count": 130,
   "id": "685eed7e-e07a-437b-88bb-6028362c9d84",
   "metadata": {},
   "outputs": [
    {
     "name": "stderr",
     "output_type": "stream",
     "text": [
      "C:\\Users\\pc\\anaconda3\\New folder\\Lib\\site-packages\\seaborn\\_oldcore.py:1119: FutureWarning: use_inf_as_na option is deprecated and will be removed in a future version. Convert inf values to NaN before operating instead.\n",
      "  with pd.option_context('mode.use_inf_as_na', True):\n",
      "C:\\Users\\pc\\anaconda3\\New folder\\Lib\\site-packages\\seaborn\\_oldcore.py:1119: FutureWarning: use_inf_as_na option is deprecated and will be removed in a future version. Convert inf values to NaN before operating instead.\n",
      "  with pd.option_context('mode.use_inf_as_na', True):\n"
     ]
    },
    {
     "data": {
      "text/plain": [
       "<seaborn.axisgrid.PairGrid at 0x1c08c351490>"
      ]
     },
     "execution_count": 130,
     "metadata": {},
     "output_type": "execute_result"
    },
    {
     "data": {
      "image/png": "[encoded data removed]",
      "text/plain": [
       "<Figure size 581.736x500 with 6 Axes>"
      ]
     },
     "metadata": {},
     "output_type": "display_data"
    }
   ],
   "source": [
    "sns.pairplot(df_with_predicted_scores, hue= 'viva score')\n"
   ]
  },
  {
   "cell_type": "code",
   "execution_count": 132,
   "id": "6e0b8d8d-05b5-4724-b74d-cf0c185ccace",
   "metadata": {},
   "outputs": [
    {
     "data": {
      "image/png": "[encoded data removed]",
      "text/plain": [
       "<Figure size 640x480 with 1 Axes>"
      ]
     },
     "metadata": {},
     "output_type": "display_data"
    }
   ],
   "source": [
    "sns.boxplot(x='practical score', y='predicted_exam_score', data=df_with_predicted_scores)\n",
    "plt.title('Box Plot of Predicted Exam Scores by Practical Score')\n",
    "plt.show()"
   ]
  },
  {
   "cell_type": "code",
   "execution_count": null,
   "id": "71468ad6-8a15-4a58-80d7-e96203461983",
   "metadata": {},
   "outputs": [],
   "source": []
  },
  {
   "cell_type": "code",
   "execution_count": null,
   "id": "241b145c-fa11-4be6-9c12-df6324946c11",
   "metadata": {},
   "outputs": [],
   "source": []
  }
 ],
 "metadata": {
  "kernelspec": {
   "display_name": "Python 3 (ipykernel)",
   "language": "python",
   "name": "python3"
  },
  "language_info": {
   "codemirror_mode": {
    "name": "ipython",
    "version": 3
   },
   "file_extension": ".py",
   "mimetype": "text/x-python",
   "name": "python",
   "nbconvert_exporter": "python",
   "pygments_lexer": "ipython3",
   "version": "3.11.7"
  }
 },
 "nbformat": 4,
 "nbformat_minor": 5
}
